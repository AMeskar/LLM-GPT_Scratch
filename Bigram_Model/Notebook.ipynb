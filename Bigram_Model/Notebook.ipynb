{
 "cells": [
  {
   "cell_type": "code",
   "execution_count": 144,
   "metadata": {},
   "outputs": [],
   "source": [
    "#Read the file "
   ]
  },
  {
   "cell_type": "code",
   "execution_count": 145,
   "metadata": {},
   "outputs": [],
   "source": [
    "with open('Data/input.txt', 'r') as f:\n",
    "\n",
    "    text = f.read()"
   ]
  },
  {
   "cell_type": "code",
   "execution_count": 146,
   "metadata": {},
   "outputs": [
    {
     "data": {
      "text/plain": [
       "'First Citizen:\\nBefore we proceed any further, hear me speak.\\n\\nAll:\\nSpeak, speak.\\n\\nFirst Citizen:\\nYou'"
      ]
     },
     "execution_count": 146,
     "metadata": {},
     "output_type": "execute_result"
    }
   ],
   "source": [
    "text[:100]"
   ]
  },
  {
   "cell_type": "code",
   "execution_count": 147,
   "metadata": {},
   "outputs": [],
   "source": [
    "#process the text , rmove url and some charcters"
   ]
  },
  {
   "cell_type": "code",
   "execution_count": 148,
   "metadata": {},
   "outputs": [],
   "source": [
    "import re\n",
    "\n",
    "def preprocess_text(text):\n",
    "    \n",
    "    if not isinstance(text, str):\n",
    "        return \"\"\n",
    "\n",
    "    text = re.sub(r'http\\S+|www\\S+|https\\S+', '', text, flags=re.MULTILINE)\n",
    "\n",
    "    text = re.sub(r\"/[^\\s]+\", \"\", text)\n",
    "\n",
    "    text = re.sub(r'\\n', '', text)\n",
    "\n",
    "    return text.strip()"
   ]
  },
  {
   "cell_type": "code",
   "execution_count": 149,
   "metadata": {},
   "outputs": [],
   "source": [
    "text = preprocess_text(text)"
   ]
  },
  {
   "cell_type": "code",
   "execution_count": 150,
   "metadata": {},
   "outputs": [
    {
     "data": {
      "text/plain": [
       "'First Citizen:Before we proceed any further, hear me speak.All:Speak, speak.First Citizen:You are al'"
      ]
     },
     "execution_count": 150,
     "metadata": {},
     "output_type": "execute_result"
    }
   ],
   "source": [
    "text[:100]"
   ]
  },
  {
   "cell_type": "code",
   "execution_count": 151,
   "metadata": {},
   "outputs": [
    {
     "name": "stdout",
     "output_type": "stream",
     "text": [
      "Lenght of my text 1075394\n"
     ]
    }
   ],
   "source": [
    "print('Lenght of my text', len(text))"
   ]
  },
  {
   "cell_type": "code",
   "execution_count": 152,
   "metadata": {},
   "outputs": [
    {
     "name": "stdout",
     "output_type": "stream",
     "text": [
      " !$&',-.3:;?ABCDEFGHIJKLMNOPQRSTUVWXYZabcdefghijklmnopqrstuvwxyz\n",
      "64\n"
     ]
    }
   ],
   "source": [
    "chars = sorted(list(set(text)))\n",
    "\n",
    "vocab = len(chars)\n",
    "\n",
    "print(''.join(chars))\n",
    "print(vocab)"
   ]
  },
  {
   "cell_type": "code",
   "execution_count": 153,
   "metadata": {},
   "outputs": [],
   "source": [
    "# Tokeization in the character level"
   ]
  },
  {
   "cell_type": "code",
   "execution_count": 154,
   "metadata": {},
   "outputs": [
    {
     "name": "stdout",
     "output_type": "stream",
     "text": [
      "[45, 52, 49, 49, 38, 0, 45, 62, 42]\n",
      "holla hye\n"
     ]
    }
   ],
   "source": [
    "ztoa = {i:k for i,k in enumerate(chars)}\n",
    "atoz = {k:i for i,k in enumerate(chars)}\n",
    "\n",
    "encoding = lambda word: [atoz[w] for w in word]\n",
    "decoding = lambda word: \"\".join([ztoa[w] for w in word])\n",
    "\n",
    "print(encoding('holla hye'))\n",
    "print(decoding(encoding('holla hye')))"
   ]
  },
  {
   "cell_type": "code",
   "execution_count": 155,
   "metadata": {},
   "outputs": [
    {
     "name": "stdout",
     "output_type": "stream",
     "text": [
      "torch.Size([1075394]) torch.int64\n",
      "tensor([17, 46, 55, 56, 57,  0, 14, 46, 57, 46, 63, 42, 51,  9, 13, 42, 43, 52,\n",
      "        55, 42,  0, 60, 42,  0, 53, 55, 52, 40, 42, 42, 41,  0, 38, 51, 62,  0,\n",
      "        43, 58, 55, 57, 45, 42, 55,  5,  0, 45, 42, 38, 55,  0, 50, 42,  0, 56,\n",
      "        53, 42, 38, 48,  7, 12, 49, 49,  9, 30, 53, 42, 38, 48,  5,  0, 56, 53,\n",
      "        42, 38, 48,  7, 17, 46, 55, 56, 57,  0, 14, 46, 57, 46, 63, 42, 51,  9,\n",
      "        36, 52, 58,  0, 38, 55, 42,  0, 38, 49])\n"
     ]
    }
   ],
   "source": [
    "import torch\n",
    "\n",
    "encoding_text = torch.tensor(encoding(text), dtype= torch.long)\n",
    "\n",
    "print(encoding_text.shape, encoding_text.dtype)\n",
    "print(encoding_text[: 100])"
   ]
  },
  {
   "cell_type": "code",
   "execution_count": 156,
   "metadata": {},
   "outputs": [],
   "source": [
    "#split train validation"
   ]
  },
  {
   "cell_type": "code",
   "execution_count": 157,
   "metadata": {},
   "outputs": [],
   "source": [
    "n = int(0.9*len(encoding_text))\n",
    "\n",
    "train_data = encoding_text[:n]\n",
    "valid_data = encoding_text[n:]"
   ]
  },
  {
   "cell_type": "code",
   "execution_count": 158,
   "metadata": {},
   "outputs": [],
   "source": [
    "# Training with all the data at once is costly, but we can train it with chuncks"
   ]
  },
  {
   "cell_type": "code",
   "execution_count": 159,
   "metadata": {},
   "outputs": [
    {
     "data": {
      "text/plain": [
       "tensor([17, 46, 55, 56, 57,  0, 14, 46])"
      ]
     },
     "execution_count": 159,
     "metadata": {},
     "output_type": "execute_result"
    }
   ],
   "source": [
    "train_data[: 8]"
   ]
  },
  {
   "cell_type": "code",
   "execution_count": 160,
   "metadata": {},
   "outputs": [
    {
     "data": {
      "text/plain": [
       "tensor([46, 55, 56, 57,  0, 14, 46, 57])"
      ]
     },
     "execution_count": 160,
     "metadata": {},
     "output_type": "execute_result"
    }
   ],
   "source": [
    "train_data[1: 9]"
   ]
  },
  {
   "cell_type": "code",
   "execution_count": 161,
   "metadata": {},
   "outputs": [
    {
     "name": "stdout",
     "output_type": "stream",
     "text": [
      "whne input is tensor([17]) target is 46\n",
      "whne input is tensor([17, 46]) target is 55\n",
      "whne input is tensor([17, 46, 55]) target is 56\n",
      "whne input is tensor([17, 46, 55, 56]) target is 57\n",
      "whne input is tensor([17, 46, 55, 56, 57]) target is 0\n",
      "whne input is tensor([17, 46, 55, 56, 57,  0]) target is 14\n",
      "whne input is tensor([17, 46, 55, 56, 57,  0, 14]) target is 46\n",
      "whne input is tensor([17, 46, 55, 56, 57,  0, 14, 46]) target is 57\n"
     ]
    }
   ],
   "source": [
    "block_size = 8\n",
    "\n",
    "x = train_data[: block_size]\n",
    "\n",
    "y = train_data[1: block_size + 1]\n",
    "\n",
    "for i in range(len(train_data[: block_size])):\n",
    "\n",
    "    o = x[:i+1]\n",
    "    j = y[i]\n",
    "\n",
    "    print(f'whne input is {o} target is {j}')"
   ]
  },
  {
   "cell_type": "code",
   "execution_count": 162,
   "metadata": {},
   "outputs": [],
   "source": [
    "# Random sampling"
   ]
  },
  {
   "cell_type": "code",
   "execution_count": 163,
   "metadata": {},
   "outputs": [],
   "source": [
    "batch_size = 4\n",
    "\n",
    "def random_sampling(split):\n",
    "\n",
    "    data = train_data if split == 'train' else valid_data\n",
    "\n",
    "    ix = torch.randint(len(data) - block_size, (batch_size,))\n",
    "\n",
    "    x = torch.stack([data[i:i+block_size] for i in ix])\n",
    "    y = torch.stack([data[i+1:i+block_size+1] for i in ix])\n",
    "\n",
    "    return x, y\n",
    "\n",
    "x, y = random_sampling('train')"
   ]
  },
  {
   "cell_type": "code",
   "execution_count": 164,
   "metadata": {},
   "outputs": [
    {
     "data": {
      "text/plain": [
       "tensor([38, 44])"
      ]
     },
     "execution_count": 164,
     "metadata": {},
     "output_type": "execute_result"
    }
   ],
   "source": [
    "x[0][:2]"
   ]
  },
  {
   "cell_type": "code",
   "execution_count": 165,
   "metadata": {},
   "outputs": [
    {
     "data": {
      "text/plain": [
       "tensor([[38, 44, 42, 50, 42, 51, 57,  9],\n",
       "        [62,  0, 39, 42,  0, 38,  0, 53],\n",
       "        [60, 11, 27, 55, 52, 59, 52, 56],\n",
       "        [52, 55, 51,  0, 45, 46, 56,  0]])"
      ]
     },
     "execution_count": 165,
     "metadata": {},
     "output_type": "execute_result"
    }
   ],
   "source": [
    "x"
   ]
  },
  {
   "cell_type": "code",
   "execution_count": 166,
   "metadata": {},
   "outputs": [
    {
     "data": {
      "text/plain": [
       "tensor([[44, 42, 50, 42, 51, 57,  9, 31],\n",
       "        [ 0, 39, 42,  0, 38,  0, 53, 55],\n",
       "        [11, 27, 55, 52, 59, 52, 56, 57],\n",
       "        [55, 51,  0, 45, 46, 56,  0, 40]])"
      ]
     },
     "execution_count": 166,
     "metadata": {},
     "output_type": "execute_result"
    }
   ],
   "source": [
    "y"
   ]
  },
  {
   "cell_type": "code",
   "execution_count": 167,
   "metadata": {},
   "outputs": [
    {
     "name": "stdout",
     "output_type": "stream",
     "text": [
      "when input is tensor([38]) the target is 44\n",
      "when input is tensor([38, 44]) the target is 42\n",
      "when input is tensor([38, 44, 42]) the target is 50\n",
      "when input is tensor([38, 44, 42, 50]) the target is 42\n",
      "when input is tensor([38, 44, 42, 50, 42]) the target is 51\n",
      "when input is tensor([38, 44, 42, 50, 42, 51]) the target is 57\n",
      "when input is tensor([38, 44, 42, 50, 42, 51, 57]) the target is 9\n",
      "when input is tensor([38, 44, 42, 50, 42, 51, 57,  9]) the target is 31\n",
      "when input is tensor([62]) the target is 0\n",
      "when input is tensor([62,  0]) the target is 39\n",
      "when input is tensor([62,  0, 39]) the target is 42\n",
      "when input is tensor([62,  0, 39, 42]) the target is 0\n",
      "when input is tensor([62,  0, 39, 42,  0]) the target is 38\n",
      "when input is tensor([62,  0, 39, 42,  0, 38]) the target is 0\n",
      "when input is tensor([62,  0, 39, 42,  0, 38,  0]) the target is 53\n",
      "when input is tensor([62,  0, 39, 42,  0, 38,  0, 53]) the target is 55\n",
      "when input is tensor([60]) the target is 11\n",
      "when input is tensor([60, 11]) the target is 27\n",
      "when input is tensor([60, 11, 27]) the target is 55\n",
      "when input is tensor([60, 11, 27, 55]) the target is 52\n",
      "when input is tensor([60, 11, 27, 55, 52]) the target is 59\n",
      "when input is tensor([60, 11, 27, 55, 52, 59]) the target is 52\n",
      "when input is tensor([60, 11, 27, 55, 52, 59, 52]) the target is 56\n",
      "when input is tensor([60, 11, 27, 55, 52, 59, 52, 56]) the target is 57\n",
      "when input is tensor([52]) the target is 55\n",
      "when input is tensor([52, 55]) the target is 51\n",
      "when input is tensor([52, 55, 51]) the target is 0\n",
      "when input is tensor([52, 55, 51,  0]) the target is 45\n",
      "when input is tensor([52, 55, 51,  0, 45]) the target is 46\n",
      "when input is tensor([52, 55, 51,  0, 45, 46]) the target is 56\n",
      "when input is tensor([52, 55, 51,  0, 45, 46, 56]) the target is 0\n",
      "when input is tensor([52, 55, 51,  0, 45, 46, 56,  0]) the target is 40\n"
     ]
    }
   ],
   "source": [
    "for i in range(4):\n",
    "\n",
    "    for j in range(8):\n",
    "\n",
    "        x_l = x[i][:j+1]\n",
    "        y_l = y[i][j]\n",
    "\n",
    "        print(f\"when input is {x_l} the target is {y_l}\")\n",
    "\n"
   ]
  }
 ],
 "metadata": {
  "kernelspec": {
   "display_name": "Python 3",
   "language": "python",
   "name": "python3"
  },
  "language_info": {
   "codemirror_mode": {
    "name": "ipython",
    "version": 3
   },
   "file_extension": ".py",
   "mimetype": "text/x-python",
   "name": "python",
   "nbconvert_exporter": "python",
   "pygments_lexer": "ipython3",
   "version": "3.9.6"
  }
 },
 "nbformat": 4,
 "nbformat_minor": 2
}
