{
 "cells": [
  {
   "cell_type": "code",
   "execution_count": 29,
   "metadata": {},
   "outputs": [],
   "source": [
    "#Read the file "
   ]
  },
  {
   "cell_type": "code",
   "execution_count": 30,
   "metadata": {},
   "outputs": [],
   "source": [
    "with open('Data/input.txt', 'r') as f:\n",
    "\n",
    "    text = f.read()"
   ]
  },
  {
   "cell_type": "code",
   "execution_count": 31,
   "metadata": {},
   "outputs": [
    {
     "data": {
      "text/plain": [
       "'First Citizen:\\nBefore we proceed any further, hear me speak.\\n\\nAll:\\nSpeak, speak.\\n\\nFirst Citizen:\\nYou'"
      ]
     },
     "execution_count": 31,
     "metadata": {},
     "output_type": "execute_result"
    }
   ],
   "source": [
    "text[:100]"
   ]
  },
  {
   "cell_type": "code",
   "execution_count": 32,
   "metadata": {},
   "outputs": [],
   "source": [
    "#process the text , rmove url and some charcters"
   ]
  },
  {
   "cell_type": "code",
   "execution_count": 33,
   "metadata": {},
   "outputs": [],
   "source": [
    "import re\n",
    "\n",
    "def preprocess_text(text):\n",
    "    \n",
    "    if not isinstance(text, str):\n",
    "        return \"\"\n",
    "\n",
    "    text = re.sub(r'http\\S+|www\\S+|https\\S+', '', text, flags=re.MULTILINE)\n",
    "\n",
    "    text = re.sub(r\"/[^\\s]+\", \"\", text)\n",
    "\n",
    "    text = re.sub(r'\\n', '', text)\n",
    "\n",
    "    return text.strip()"
   ]
  },
  {
   "cell_type": "code",
   "execution_count": 34,
   "metadata": {},
   "outputs": [],
   "source": [
    "text = preprocess_text(text)"
   ]
  },
  {
   "cell_type": "code",
   "execution_count": 35,
   "metadata": {},
   "outputs": [
    {
     "data": {
      "text/plain": [
       "'First Citizen:Before we proceed any further, hear me speak.All:Speak, speak.First Citizen:You are al'"
      ]
     },
     "execution_count": 35,
     "metadata": {},
     "output_type": "execute_result"
    }
   ],
   "source": [
    "text[:100]"
   ]
  },
  {
   "cell_type": "code",
   "execution_count": 36,
   "metadata": {},
   "outputs": [
    {
     "name": "stdout",
     "output_type": "stream",
     "text": [
      "Lenght of my text 1075394\n"
     ]
    }
   ],
   "source": [
    "print('Lenght of my text', len(text))"
   ]
  },
  {
   "cell_type": "code",
   "execution_count": 37,
   "metadata": {},
   "outputs": [
    {
     "name": "stdout",
     "output_type": "stream",
     "text": [
      " !$&',-.3:;?ABCDEFGHIJKLMNOPQRSTUVWXYZabcdefghijklmnopqrstuvwxyz\n",
      "64\n"
     ]
    }
   ],
   "source": [
    "chars = sorted(list(set(text)))\n",
    "\n",
    "vocab = len(chars)\n",
    "\n",
    "print(''.join(chars))\n",
    "print(vocab)"
   ]
  },
  {
   "cell_type": "code",
   "execution_count": 38,
   "metadata": {},
   "outputs": [],
   "source": [
    "# Tokeization in the character level"
   ]
  },
  {
   "cell_type": "code",
   "execution_count": 39,
   "metadata": {},
   "outputs": [
    {
     "name": "stdout",
     "output_type": "stream",
     "text": [
      "[45, 52, 49, 49, 38, 0, 45, 62, 42]\n",
      "holla hye\n"
     ]
    }
   ],
   "source": [
    "ztoa = {i:k for i,k in enumerate(chars)}\n",
    "atoz = {k:i for i,k in enumerate(chars)}\n",
    "\n",
    "encoding = lambda word: [atoz[w] for w in word]\n",
    "decoding = lambda word: \"\".join([ztoa[w] for w in word])\n",
    "\n",
    "print(encoding('holla hye'))\n",
    "print(decoding(encoding('holla hye')))"
   ]
  },
  {
   "cell_type": "code",
   "execution_count": 40,
   "metadata": {},
   "outputs": [
    {
     "name": "stdout",
     "output_type": "stream",
     "text": [
      "torch.Size([1075394]) torch.int64\n",
      "tensor([17, 46, 55, 56, 57,  0, 14, 46, 57, 46, 63, 42, 51,  9, 13, 42, 43, 52,\n",
      "        55, 42,  0, 60, 42,  0, 53, 55, 52, 40, 42, 42, 41,  0, 38, 51, 62,  0,\n",
      "        43, 58, 55, 57, 45, 42, 55,  5,  0, 45, 42, 38, 55,  0, 50, 42,  0, 56,\n",
      "        53, 42, 38, 48,  7, 12, 49, 49,  9, 30, 53, 42, 38, 48,  5,  0, 56, 53,\n",
      "        42, 38, 48,  7, 17, 46, 55, 56, 57,  0, 14, 46, 57, 46, 63, 42, 51,  9,\n",
      "        36, 52, 58,  0, 38, 55, 42,  0, 38, 49])\n"
     ]
    }
   ],
   "source": [
    "import torch\n",
    "torch.manual_seed(1337)\n",
    "\n",
    "encoding_text = torch.tensor(encoding(text), dtype= torch.long)\n",
    "\n",
    "print(encoding_text.shape, encoding_text.dtype)\n",
    "print(encoding_text[: 100])"
   ]
  },
  {
   "cell_type": "code",
   "execution_count": 41,
   "metadata": {},
   "outputs": [],
   "source": [
    "#split train validation"
   ]
  },
  {
   "cell_type": "code",
   "execution_count": 42,
   "metadata": {},
   "outputs": [],
   "source": [
    "n = int(0.9*len(encoding_text))\n",
    "\n",
    "train_data = encoding_text[:n]\n",
    "valid_data = encoding_text[n:]"
   ]
  },
  {
   "cell_type": "code",
   "execution_count": 43,
   "metadata": {},
   "outputs": [],
   "source": [
    "# Training with all the data at once is costly, but we can train it with chuncks"
   ]
  },
  {
   "cell_type": "code",
   "execution_count": 44,
   "metadata": {},
   "outputs": [
    {
     "data": {
      "text/plain": [
       "tensor([17, 46, 55, 56, 57,  0, 14, 46])"
      ]
     },
     "execution_count": 44,
     "metadata": {},
     "output_type": "execute_result"
    }
   ],
   "source": [
    "train_data[: 8]"
   ]
  },
  {
   "cell_type": "code",
   "execution_count": 45,
   "metadata": {},
   "outputs": [
    {
     "data": {
      "text/plain": [
       "tensor([46, 55, 56, 57,  0, 14, 46, 57])"
      ]
     },
     "execution_count": 45,
     "metadata": {},
     "output_type": "execute_result"
    }
   ],
   "source": [
    "train_data[1: 9]"
   ]
  },
  {
   "cell_type": "code",
   "execution_count": 46,
   "metadata": {},
   "outputs": [
    {
     "name": "stdout",
     "output_type": "stream",
     "text": [
      "whne input is tensor([17]) target is 46\n",
      "whne input is tensor([17, 46]) target is 55\n",
      "whne input is tensor([17, 46, 55]) target is 56\n",
      "whne input is tensor([17, 46, 55, 56]) target is 57\n",
      "whne input is tensor([17, 46, 55, 56, 57]) target is 0\n",
      "whne input is tensor([17, 46, 55, 56, 57,  0]) target is 14\n",
      "whne input is tensor([17, 46, 55, 56, 57,  0, 14]) target is 46\n",
      "whne input is tensor([17, 46, 55, 56, 57,  0, 14, 46]) target is 57\n"
     ]
    }
   ],
   "source": [
    "block_size = 8\n",
    "torch.manual_seed(1337)\n",
    "x = train_data[: block_size]\n",
    "\n",
    "y = train_data[1: block_size + 1]\n",
    "\n",
    "for i in range(len(train_data[: block_size])):\n",
    "\n",
    "    o = x[:i+1]\n",
    "    j = y[i]\n",
    "\n",
    "    print(f'whne input is {o} target is {j}')"
   ]
  },
  {
   "cell_type": "code",
   "execution_count": 47,
   "metadata": {},
   "outputs": [],
   "source": [
    "# Random sampling"
   ]
  },
  {
   "cell_type": "code",
   "execution_count": 48,
   "metadata": {},
   "outputs": [
    {
     "name": "stdout",
     "output_type": "stream",
     "text": [
      "torch.Size([4, 8]) torch.Size([4, 8])\n",
      "\n",
      " tensor([[44, 42, 57,  5, 31, 45, 42, 51],\n",
      "        [ 0, 49, 52, 51, 44, 42, 55,  0],\n",
      "        [57,  9, 36, 52, 58, 55,  0, 43],\n",
      "        [ 0, 45, 42,  0, 46, 56,  0, 40]])\n",
      "\n",
      " tensor([[42, 57,  5, 31, 45, 42, 51,  0],\n",
      "        [49, 52, 51, 44, 42, 55,  0, 56],\n",
      "        [ 9, 36, 52, 58, 55,  0, 43, 46],\n",
      "        [45, 42,  0, 46, 56,  0, 40, 52]])\n",
      "\n",
      "\n",
      "when input is tensor([44]) the target is 42\n",
      "when input is tensor([44, 42]) the target is 57\n",
      "when input is tensor([44, 42, 57]) the target is 5\n",
      "when input is tensor([44, 42, 57,  5]) the target is 31\n",
      "when input is tensor([44, 42, 57,  5, 31]) the target is 45\n",
      "when input is tensor([44, 42, 57,  5, 31, 45]) the target is 42\n",
      "when input is tensor([44, 42, 57,  5, 31, 45, 42]) the target is 51\n",
      "when input is tensor([44, 42, 57,  5, 31, 45, 42, 51]) the target is 0\n",
      "when input is tensor([0]) the target is 49\n",
      "when input is tensor([ 0, 49]) the target is 52\n",
      "when input is tensor([ 0, 49, 52]) the target is 51\n",
      "when input is tensor([ 0, 49, 52, 51]) the target is 44\n",
      "when input is tensor([ 0, 49, 52, 51, 44]) the target is 42\n",
      "when input is tensor([ 0, 49, 52, 51, 44, 42]) the target is 55\n",
      "when input is tensor([ 0, 49, 52, 51, 44, 42, 55]) the target is 0\n",
      "when input is tensor([ 0, 49, 52, 51, 44, 42, 55,  0]) the target is 56\n",
      "when input is tensor([57]) the target is 9\n",
      "when input is tensor([57,  9]) the target is 36\n",
      "when input is tensor([57,  9, 36]) the target is 52\n",
      "when input is tensor([57,  9, 36, 52]) the target is 58\n",
      "when input is tensor([57,  9, 36, 52, 58]) the target is 55\n",
      "when input is tensor([57,  9, 36, 52, 58, 55]) the target is 0\n",
      "when input is tensor([57,  9, 36, 52, 58, 55,  0]) the target is 43\n",
      "when input is tensor([57,  9, 36, 52, 58, 55,  0, 43]) the target is 46\n",
      "when input is tensor([0]) the target is 45\n",
      "when input is tensor([ 0, 45]) the target is 42\n",
      "when input is tensor([ 0, 45, 42]) the target is 0\n",
      "when input is tensor([ 0, 45, 42,  0]) the target is 46\n",
      "when input is tensor([ 0, 45, 42,  0, 46]) the target is 56\n",
      "when input is tensor([ 0, 45, 42,  0, 46, 56]) the target is 0\n",
      "when input is tensor([ 0, 45, 42,  0, 46, 56,  0]) the target is 40\n",
      "when input is tensor([ 0, 45, 42,  0, 46, 56,  0, 40]) the target is 52\n"
     ]
    }
   ],
   "source": [
    "batch_size = 4\n",
    "\n",
    "def random_sampling(split):\n",
    "\n",
    "    data = train_data if split == 'train' else valid_data\n",
    "\n",
    "    ix = torch.randint(len(data) - block_size, (batch_size,))\n",
    "\n",
    "    x = torch.stack([data[i:i+block_size] for i in ix])\n",
    "    y = torch.stack([data[i+1:i+block_size+1] for i in ix])\n",
    "\n",
    "    return x, y\n",
    "\n",
    "x, y = random_sampling('train')\n",
    "\n",
    "print(x.shape, y.shape)\n",
    "print('\\n', x)\n",
    "print('\\n', y)\n",
    "print('\\n')\n",
    "for i in range(4):\n",
    "\n",
    "    for j in range(8):\n",
    "\n",
    "        x_l = x[i][:j+1]\n",
    "        y_l = y[i][j]\n",
    "\n",
    "        print(f\"when input is {x_l} the target is {y_l}\")"
   ]
  },
  {
   "cell_type": "code",
   "execution_count": 49,
   "metadata": {},
   "outputs": [
    {
     "data": {
      "text/plain": [
       "tensor([[44, 42, 57,  5, 31, 45, 42, 51],\n",
       "        [ 0, 49, 52, 51, 44, 42, 55,  0],\n",
       "        [57,  9, 36, 52, 58, 55,  0, 43],\n",
       "        [ 0, 45, 42,  0, 46, 56,  0, 40]])"
      ]
     },
     "execution_count": 49,
     "metadata": {},
     "output_type": "execute_result"
    }
   ],
   "source": [
    "x"
   ]
  },
  {
   "cell_type": "code",
   "execution_count": 61,
   "metadata": {},
   "outputs": [
    {
     "name": "stdout",
     "output_type": "stream",
     "text": [
      "torch.Size([4, 8, 64])\n",
      "\n",
      " tensor([[[-0.4198, -0.6435, -0.3311,  ..., -0.9595,  1.8561,  0.1731],\n",
      "         [-1.0184,  2.2253,  0.5137,  ..., -0.4551, -0.0516, -0.4424],\n",
      "         [ 1.0237, -0.1184,  0.1446,  ...,  0.7763, -0.8460,  0.8437],\n",
      "         ...,\n",
      "         [-0.8251,  1.4378, -1.6157,  ..., -0.6972,  0.1416,  1.1991],\n",
      "         [-1.0184,  2.2253,  0.5137,  ..., -0.4551, -0.0516, -0.4424],\n",
      "         [-0.5655,  0.1863,  0.4466,  ...,  0.3164,  1.0056, -0.9158]],\n",
      "\n",
      "        [[ 0.1808, -0.0700, -0.3596,  ...,  1.5333,  1.6097, -0.4032],\n",
      "         [-1.5012, -1.7006,  1.2642,  ..., -1.6868, -0.9292, -1.2395],\n",
      "         [-1.9572,  0.0552,  0.2706,  ..., -0.0134, -1.9390,  0.6582],\n",
      "         ...,\n",
      "         [-1.0184,  2.2253,  0.5137,  ..., -0.4551, -0.0516, -0.4424],\n",
      "         [-1.3360, -0.9757, -0.5134,  ...,  1.8886,  2.6879,  0.9940],\n",
      "         [ 0.1808, -0.0700, -0.3596,  ...,  1.5333,  1.6097, -0.4032]],\n",
      "\n",
      "        [[ 1.0237, -0.1184,  0.1446,  ...,  0.7763, -0.8460,  0.8437],\n",
      "         [-1.0277,  0.5347, -0.7958,  ...,  0.6359,  0.2523,  0.5045],\n",
      "         [-0.2502, -0.4973, -0.1547,  ..., -0.0938,  1.0844, -1.0433],\n",
      "         ...,\n",
      "         [-1.3360, -0.9757, -0.5134,  ...,  1.8886,  2.6879,  0.9940],\n",
      "         [ 0.1808, -0.0700, -0.3596,  ...,  1.5333,  1.6097, -0.4032],\n",
      "         [ 0.1604, -1.1646,  0.6482,  ..., -0.4834, -0.3263,  0.3193]],\n",
      "\n",
      "        [[ 0.1808, -0.0700, -0.3596,  ...,  1.5333,  1.6097, -0.4032],\n",
      "         [-0.8251,  1.4378, -1.6157,  ..., -0.6972,  0.1416,  1.1991],\n",
      "         [-1.0184,  2.2253,  0.5137,  ..., -0.4551, -0.0516, -0.4424],\n",
      "         ...,\n",
      "         [-1.9079, -0.8043, -0.3358,  ...,  1.2618,  0.6474, -0.3519],\n",
      "         [ 0.1808, -0.0700, -0.3596,  ...,  1.5333,  1.6097, -0.4032],\n",
      "         [-0.0399,  1.0038, -1.1435,  ...,  0.5841, -0.1505, -0.0125]]],\n",
      "       grad_fn=<EmbeddingBackward0>)\n"
     ]
    }
   ],
   "source": [
    "import torch \n",
    "import torch.nn as nn\n",
    "from torch.nn import functional as functional\n",
    "torch.manual_seed(1337)\n",
    "\n",
    "class BigramLanguageModel(nn.Module):\n",
    "\n",
    "    def __init__(self, vocab_size):\n",
    "        super().__init__()\n",
    "\n",
    "        self.embeding = nn.Embedding(vocab_size, vocab_size)\n",
    "    \n",
    "    def forward(self, idx, target):\n",
    "\n",
    "        logits = self.embeding(idx)\n",
    "    \n",
    "        return logits\n",
    "\n",
    "m = BigramLanguageModel(vocab_size= vocab)\n",
    "logits = m(x, y)\n",
    "\n",
    "print(logits.shape)\n",
    "print('\\n', logits)"
   ]
  }
 ],
 "metadata": {
  "kernelspec": {
   "display_name": "Python 3",
   "language": "python",
   "name": "python3"
  },
  "language_info": {
   "codemirror_mode": {
    "name": "ipython",
    "version": 3
   },
   "file_extension": ".py",
   "mimetype": "text/x-python",
   "name": "python",
   "nbconvert_exporter": "python",
   "pygments_lexer": "ipython3",
   "version": "3.9.6"
  }
 },
 "nbformat": 4,
 "nbformat_minor": 2
}
